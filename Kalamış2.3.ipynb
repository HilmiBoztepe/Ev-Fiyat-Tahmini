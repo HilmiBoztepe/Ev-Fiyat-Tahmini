{
 "cells": [
  {
   "cell_type": "code",
   "execution_count": 1,
   "id": "deaccd21",
   "metadata": {},
   "outputs": [],
   "source": [
    "import requests\n",
    "from bs4 import BeautifulSoup as bs\n",
    "import re\n",
    "import pandas as pd\n",
    "import seaborn as sns\n",
    "from matplotlib import pyplot as plt\n",
    "import numpy as np"
   ]
  },
  {
   "cell_type": "code",
   "execution_count": 29,
   "id": "5c136d89",
   "metadata": {},
   "outputs": [
    {
     "name": "stdout",
     "output_type": "stream",
     "text": [
      "<class 'pandas.core.frame.DataFrame'>\n",
      "RangeIndex: 529 entries, 0 to 528\n",
      "Data columns (total 8 columns):\n",
      " #   Column  Non-Null Count  Dtype \n",
      "---  ------  --------------  ----- \n",
      " 0   Tarih   529 non-null    object\n",
      " 1   M²      529 non-null    object\n",
      " 2   Kat     476 non-null    object\n",
      " 3   Oda     476 non-null    object\n",
      " 4   Yaş     521 non-null    object\n",
      " 5   Fiyat   529 non-null    object\n",
      " 6   Desc    529 non-null    object\n",
      " 7   Tür     529 non-null    object\n",
      "dtypes: object(8)\n",
      "memory usage: 33.2+ KB\n"
     ]
    }
   ],
   "source": [
    "headers={\"user-agent\":\"Mozilla/5.0 (Macintosh; Intel Mac OS X 10_15_7) AppleWebKit/537.36 (KHTML, like Gecko) Chrome/120.0.0.0 Safari/537.36\"}\n",
    "özellik_list = []\n",
    "for i in range(1,24):\n",
    "    url = f\"https://www.hepsiemlak.com/kadikoy?districts=fenerbahce-mah,zuhtupasa&page={i}\"\n",
    "    #https://www.hepsiemlak.com/kadikoy?districts=kadikoy-bostanci-mah,fenerbahce-mah,kadikoy-erenkoy-mah,feneryolu-mah,zuhtupasa,kadikoy-suadiye-mah&page=2\n",
    "    r = requests.get(url,headers=headers)\n",
    "    soup = bs(r.content,\"lxml\")\n",
    "    homes = soup.find_all('li',class_='listing-item')\n",
    "    list = []\n",
    "    for home in homes:\n",
    "        fiyat_element = home.find('span',class_='list-view-price')\n",
    "        if fiyat_element is not None:\n",
    "            fiyat = fiyat_element.text.strip()\n",
    "        else:\n",
    "            fiyat = None\n",
    "\n",
    "        tarih_element = home.find('span',class_='list-view-date')\n",
    "        if tarih_element is not None:\n",
    "            tarih = tarih_element.text.strip()\n",
    "        else:\n",
    "            tarih = None\n",
    "\n",
    "        m2_element = home.find('span',class_='celly squareMeter list-view-size')\n",
    "        if m2_element is not None:\n",
    "            m2 = m2_element.text.strip()\n",
    "        else:\n",
    "            m2 = None\n",
    "\n",
    "        kat_element = home.find('span',class_='celly floortype')\n",
    "        if kat_element is not None:\n",
    "            kat = kat_element.text.strip()\n",
    "        else:\n",
    "            kat = None\n",
    "\n",
    "        oda_element = home.find('span',class_='celly houseRoomCount')\n",
    "        if oda_element is not None:\n",
    "            oda = oda_element.text.strip().replace('\\n', '').replace(' ', '')\n",
    "        else:\n",
    "            oda = None\n",
    "\n",
    "        yaş_element = home.find('span',class_='celly buildingAge')\n",
    "        if yaş_element is not None:\n",
    "            yaş = yaş_element.text.strip().replace('\\n', '').replace(' ', '')\n",
    "        else:\n",
    "            yaş = None\n",
    "        \n",
    "        tür_element = home.find('span',class_='left')\n",
    "        if tür_element is not None:\n",
    "            tür = tür_element.text.strip().replace('\\n', '').replace(' ', '')\n",
    "        else:\n",
    "            tür = None\n",
    "            \n",
    "        desc_element = home.find('header',class_='list-view-header')\n",
    "        if desc_element is not None:\n",
    "            desc = desc_element.text.strip().replace('\\n', '').replace(' ', '')\n",
    "        else:\n",
    "            desc = None\n",
    "\n",
    "        özellik = [tarih,m2,kat,oda,yaş,fiyat,desc,tür]\n",
    "        özellik_list.append(özellik)\n",
    "\n",
    "columns = ['Tarih', 'M²', 'Kat', 'Oda', 'Yaş', 'Fiyat','Desc','Tür']\n",
    "df = pd.DataFrame(özellik_list, columns=columns)\n",
    "# Fiyat sütununu temizle\n",
    "df['Fiyat'] = df['Fiyat'].str.replace('\\n', '').str.replace(' TL', '')\n",
    "\n",
    "# Fiyat sütununu sayısal değere dönüştür\n",
    "#df['Fiyat'] = pd.to_numeric(df['Fiyat'].str.replace('.', ''))\n",
    "df.info()"
   ]
  },
  {
   "cell_type": "code",
   "execution_count": 31,
   "id": "c582c525",
   "metadata": {},
   "outputs": [],
   "source": [
    "#df.to_csv(\"Kalamış23.05.2024.csv\")"
   ]
  },
  {
   "cell_type": "code",
   "execution_count": 30,
   "id": "5dc74390",
   "metadata": {},
   "outputs": [
    {
     "data": {
      "text/html": [
       "<div>\n",
       "<style scoped>\n",
       "    .dataframe tbody tr th:only-of-type {\n",
       "        vertical-align: middle;\n",
       "    }\n",
       "\n",
       "    .dataframe tbody tr th {\n",
       "        vertical-align: top;\n",
       "    }\n",
       "\n",
       "    .dataframe thead th {\n",
       "        text-align: right;\n",
       "    }\n",
       "</style>\n",
       "<table border=\"1\" class=\"dataframe\">\n",
       "  <thead>\n",
       "    <tr style=\"text-align: right;\">\n",
       "      <th></th>\n",
       "      <th>Tarih</th>\n",
       "      <th>M²</th>\n",
       "      <th>Kat</th>\n",
       "      <th>Oda</th>\n",
       "      <th>Yaş</th>\n",
       "      <th>Fiyat</th>\n",
       "      <th>Desc</th>\n",
       "      <th>Tür</th>\n",
       "    </tr>\n",
       "  </thead>\n",
       "  <tbody>\n",
       "    <tr>\n",
       "      <th>0</th>\n",
       "      <td>22-05-2024</td>\n",
       "      <td>100 m²</td>\n",
       "      <td>2. Kat</td>\n",
       "      <td>2+1</td>\n",
       "      <td>5Yaşında</td>\n",
       "      <td>65.000</td>\n",
       "      <td>FenerbahçeSahil2+1FullModernEşyalı5YıllıkKiral...</td>\n",
       "      <td>KiralıkDaire</td>\n",
       "    </tr>\n",
       "    <tr>\n",
       "      <th>1</th>\n",
       "      <td>15-04-2024</td>\n",
       "      <td>115 m²</td>\n",
       "      <td>Kot 1</td>\n",
       "      <td>3+1</td>\n",
       "      <td>6Yaşında</td>\n",
       "      <td>24.000.000</td>\n",
       "      <td>FenerbahçeDalyanSitesindeHavuzlu3+1Denize100mM...</td>\n",
       "      <td>SatılıkDaire</td>\n",
       "    </tr>\n",
       "    <tr>\n",
       "      <th>2</th>\n",
       "      <td>21-05-2024</td>\n",
       "      <td>130 m²</td>\n",
       "      <td>6. Kat</td>\n",
       "      <td>3+1</td>\n",
       "      <td>SıfırBina</td>\n",
       "      <td>12.900.000</td>\n",
       "      <td>YetkiliKalamışBağdatSahilAraDenizManBalkon3+1S...</td>\n",
       "      <td>SatılıkDaire</td>\n",
       "    </tr>\n",
       "    <tr>\n",
       "      <th>3</th>\n",
       "      <td>23-05-2024</td>\n",
       "      <td>145 m²</td>\n",
       "      <td>4. Kat</td>\n",
       "      <td>3+1</td>\n",
       "      <td>4Yaşında</td>\n",
       "      <td>16.950.000</td>\n",
       "      <td>KalamışVaronYetkiliSahilde4yıllık145m2Güvenlik...</td>\n",
       "      <td>SatılıkDaire</td>\n",
       "    </tr>\n",
       "    <tr>\n",
       "      <th>4</th>\n",
       "      <td>23-05-2024</td>\n",
       "      <td>90 m²</td>\n",
       "      <td>7. Kat</td>\n",
       "      <td>2+1</td>\n",
       "      <td>SıfırBina</td>\n",
       "      <td>8.200.000</td>\n",
       "      <td>Zühtüpaşa'daBağdat'a1.ParalelBalkonlu67m2Net2+...</td>\n",
       "      <td>SatılıkDaire</td>\n",
       "    </tr>\n",
       "  </tbody>\n",
       "</table>\n",
       "</div>"
      ],
      "text/plain": [
       "        Tarih      M²     Kat  Oda        Yaş                        Fiyat  \\\n",
       "0  22-05-2024  100 m²  2. Kat  2+1   5Yaşında      65.000                    \n",
       "1  15-04-2024  115 m²   Kot 1  3+1   6Yaşında  24.000.000                    \n",
       "2  21-05-2024  130 m²  6. Kat  3+1  SıfırBina  12.900.000                    \n",
       "3  23-05-2024  145 m²  4. Kat  3+1   4Yaşında  16.950.000                    \n",
       "4  23-05-2024   90 m²  7. Kat  2+1  SıfırBina   8.200.000                    \n",
       "\n",
       "                                                Desc           Tür  \n",
       "0  FenerbahçeSahil2+1FullModernEşyalı5YıllıkKiral...  KiralıkDaire  \n",
       "1  FenerbahçeDalyanSitesindeHavuzlu3+1Denize100mM...  SatılıkDaire  \n",
       "2  YetkiliKalamışBağdatSahilAraDenizManBalkon3+1S...  SatılıkDaire  \n",
       "3  KalamışVaronYetkiliSahilde4yıllık145m2Güvenlik...  SatılıkDaire  \n",
       "4  Zühtüpaşa'daBağdat'a1.ParalelBalkonlu67m2Net2+...  SatılıkDaire  "
      ]
     },
     "execution_count": 30,
     "metadata": {},
     "output_type": "execute_result"
    }
   ],
   "source": [
    "df.head()"
   ]
  },
  {
   "cell_type": "code",
   "execution_count": 36,
   "id": "69235ed1",
   "metadata": {},
   "outputs": [
    {
     "data": {
      "text/plain": [
       "array(['KiralıkDaire', 'SatılıkDaire', 'KiralıkOfis',\n",
       "       'SatılıkApartmanDairesi', 'KiralıkDükkan&Mağaza',\n",
       "       'SatılıkDükkan&Mağaza', 'SatılıkOfis', 'KiralıkApartmanDairesi',\n",
       "       'SatılıkMüstakilEv', 'SatılıkGenel', 'KiralıkGenel',\n",
       "       'SatılıkVilla', 'SatılıkMuhtelifArsa', 'KiralıkCafe&Bar',\n",
       "       'SatılıkCafe&Bar'], dtype=object)"
      ]
     },
     "execution_count": 36,
     "metadata": {},
     "output_type": "execute_result"
    }
   ],
   "source": [
    "df['Tür'].unique()"
   ]
  },
  {
   "cell_type": "code",
   "execution_count": 37,
   "id": "64d986a8",
   "metadata": {},
   "outputs": [
    {
     "name": "stderr",
     "output_type": "stream",
     "text": [
      "/var/folders/bc/ldqjky0n44v8wx89hp6dtbjh0000gn/T/ipykernel_95331/304083543.py:2: FutureWarning: The default value of regex will change from True to False in a future version. In addition, single character regular expressions will *not* be treated as literal strings when regex=True.\n",
      "  df['M²'] = df['M²'].str.replace('.','')\n"
     ]
    }
   ],
   "source": [
    "df['M²'] = df['M²'].str.replace('m²','')\n",
    "df['M²'] = df['M²'].str.replace('.','')\n",
    "df['M²'] = df['M²'].astype(int)"
   ]
  },
  {
   "cell_type": "code",
   "execution_count": 38,
   "id": "de5f69df",
   "metadata": {},
   "outputs": [],
   "source": [
    "df['Salon'] = df['Oda'].str[-1]\n",
    "df['Oda'] = df['Oda'].str[0]\n",
    "df[['Oda','Salon']] = df[['Oda','Salon']].apply(pd.to_numeric,errors='coerce')"
   ]
  },
  {
   "cell_type": "code",
   "execution_count": 39,
   "id": "c0859ab1",
   "metadata": {},
   "outputs": [
    {
     "name": "stderr",
     "output_type": "stream",
     "text": [
      "/var/folders/bc/ldqjky0n44v8wx89hp6dtbjh0000gn/T/ipykernel_95331/2010340603.py:1: FutureWarning: The default value of regex will change from True to False in a future version. In addition, single character regular expressions will *not* be treated as literal strings when regex=True.\n",
      "  df['Fiyat'] = df['Fiyat'].str.replace('.','')\n"
     ]
    }
   ],
   "source": [
    "df['Fiyat'] = df['Fiyat'].str.replace('.','')\n",
    "df['Fiyat'] = pd.to_numeric(df['Fiyat'],errors='coerce')"
   ]
  },
  {
   "cell_type": "code",
   "execution_count": 40,
   "id": "700c3ab5",
   "metadata": {},
   "outputs": [],
   "source": [
    "df['Yaş'] = df['Yaş'].replace('SıfırBina','0Yaşında')\n",
    "df['Yaş'] = df['Yaş'].str.replace('Yaşında','')\n",
    "df['Yaş'] = pd.to_numeric(df['Yaş'],errors='coerce')"
   ]
  },
  {
   "cell_type": "code",
   "execution_count": 41,
   "id": "a73786ce",
   "metadata": {},
   "outputs": [
    {
     "name": "stdout",
     "output_type": "stream",
     "text": [
      "<class 'pandas.core.frame.DataFrame'>\n",
      "RangeIndex: 529 entries, 0 to 528\n",
      "Data columns (total 9 columns):\n",
      " #   Column  Non-Null Count  Dtype  \n",
      "---  ------  --------------  -----  \n",
      " 0   Tarih   529 non-null    object \n",
      " 1   M²      529 non-null    int64  \n",
      " 2   Kat     476 non-null    object \n",
      " 3   Oda     475 non-null    float64\n",
      " 4   Yaş     521 non-null    float64\n",
      " 5   Fiyat   529 non-null    int64  \n",
      " 6   Desc    529 non-null    object \n",
      " 7   Tür     529 non-null    object \n",
      " 8   Salon   475 non-null    float64\n",
      "dtypes: float64(3), int64(2), object(4)\n",
      "memory usage: 37.3+ KB\n"
     ]
    }
   ],
   "source": [
    "df.info()"
   ]
  },
  {
   "cell_type": "code",
   "execution_count": 42,
   "id": "74b9c9dc",
   "metadata": {
    "scrolled": true
   },
   "outputs": [
    {
     "data": {
      "text/plain": [
       "3. Kat          77\n",
       "2. Kat          68\n",
       "7. Kat          54\n",
       "1. Kat          49\n",
       "4. Kat          45\n",
       "8. Kat          39\n",
       "5. Kat          26\n",
       "6. Kat          19\n",
       "Yüksek Giriş    17\n",
       "10. Kat         13\n",
       "9. Kat          12\n",
       "11. Kat         11\n",
       "Ara Kat         10\n",
       "Bahçe Katı       9\n",
       "Çatı Katı        4\n",
       "En Üst Kat       3\n",
       "12. Kat          3\n",
       "13. Kat          3\n",
       "Kot 1            2\n",
       "15. Kat          2\n",
       "                 2\n",
       "19. Kat          2\n",
       "16. Kat          2\n",
       "Zemin            2\n",
       "Giriş Katı       1\n",
       "21 ve üzeri      1\n",
       "Name: Kat, dtype: int64"
      ]
     },
     "execution_count": 42,
     "metadata": {},
     "output_type": "execute_result"
    }
   ],
   "source": [
    "df['Kat'].value_counts()"
   ]
  },
  {
   "cell_type": "code",
   "execution_count": 43,
   "id": "5a9a7d83",
   "metadata": {},
   "outputs": [
    {
     "name": "stderr",
     "output_type": "stream",
     "text": [
      "/var/folders/bc/ldqjky0n44v8wx89hp6dtbjh0000gn/T/ipykernel_95331/1129769975.py:2: FutureWarning: The default value of regex will change from True to False in a future version.\n",
      "  df['Kat'] = df['Kat'].str.replace('. Kat','')\n"
     ]
    }
   ],
   "source": [
    "df['Kat'] = df['Kat'].str.replace('Yüksek Giriş','0. Kat').replace('Bahçe Katı','0. Kat').replace('Zemin','0. Kat').replace('Giriş Katı','0. Kat')\n",
    "df['Kat'] = df['Kat'].str.replace('. Kat','')\n",
    "df['Kat'] = pd.to_numeric(df['Kat'],errors='coerce')"
   ]
  },
  {
   "cell_type": "code",
   "execution_count": 44,
   "id": "91f4d804",
   "metadata": {},
   "outputs": [
    {
     "data": {
      "text/plain": [
       "3.0     77\n",
       "2.0     68\n",
       "7.0     54\n",
       "1.0     49\n",
       "4.0     45\n",
       "8.0     39\n",
       "0.0     29\n",
       "5.0     26\n",
       "6.0     19\n",
       "10.0    13\n",
       "9.0     12\n",
       "11.0    11\n",
       "12.0     3\n",
       "13.0     3\n",
       "15.0     2\n",
       "19.0     2\n",
       "16.0     2\n",
       "Name: Kat, dtype: int64"
      ]
     },
     "execution_count": 44,
     "metadata": {},
     "output_type": "execute_result"
    }
   ],
   "source": [
    "df['Kat'].value_counts()"
   ]
  },
  {
   "cell_type": "code",
   "execution_count": 45,
   "id": "9ed1686d",
   "metadata": {},
   "outputs": [
    {
     "name": "stdout",
     "output_type": "stream",
     "text": [
      "<class 'pandas.core.frame.DataFrame'>\n",
      "RangeIndex: 529 entries, 0 to 528\n",
      "Data columns (total 9 columns):\n",
      " #   Column  Non-Null Count  Dtype  \n",
      "---  ------  --------------  -----  \n",
      " 0   Tarih   529 non-null    object \n",
      " 1   M²      529 non-null    int64  \n",
      " 2   Kat     454 non-null    float64\n",
      " 3   Oda     475 non-null    float64\n",
      " 4   Yaş     521 non-null    float64\n",
      " 5   Fiyat   529 non-null    int64  \n",
      " 6   Desc    529 non-null    object \n",
      " 7   Tür     529 non-null    object \n",
      " 8   Salon   475 non-null    float64\n",
      "dtypes: float64(4), int64(2), object(3)\n",
      "memory usage: 37.3+ KB\n"
     ]
    }
   ],
   "source": [
    "df.info()"
   ]
  },
  {
   "cell_type": "code",
   "execution_count": 46,
   "id": "9b940919",
   "metadata": {},
   "outputs": [],
   "source": [
    "df['Manzara'] = df['Desc'].str.contains('manzara',case=False).astype(int)\n",
    "df['Dubleks'] = df['Desc'].str.contains('dubleks',case=False).astype(int)"
   ]
  },
  {
   "cell_type": "code",
   "execution_count": 47,
   "id": "b9c2a08e",
   "metadata": {},
   "outputs": [
    {
     "data": {
      "text/plain": [
       "Tarih       0\n",
       "M²          0\n",
       "Kat        75\n",
       "Oda        54\n",
       "Yaş         8\n",
       "Fiyat       0\n",
       "Desc        0\n",
       "Tür         0\n",
       "Salon      54\n",
       "Manzara     0\n",
       "Dubleks     0\n",
       "dtype: int64"
      ]
     },
     "execution_count": 47,
     "metadata": {},
     "output_type": "execute_result"
    }
   ],
   "source": [
    "df.isnull().sum()"
   ]
  },
  {
   "cell_type": "code",
   "execution_count": 59,
   "id": "fc838e6c",
   "metadata": {},
   "outputs": [
    {
     "name": "stdout",
     "output_type": "stream",
     "text": [
      "<class 'pandas.core.frame.DataFrame'>\n",
      "Int64Index: 435 entries, 1 to 528\n",
      "Data columns (total 8 columns):\n",
      " #   Column   Non-Null Count  Dtype  \n",
      "---  ------   --------------  -----  \n",
      " 0   M²       435 non-null    int64  \n",
      " 1   Kat      417 non-null    float64\n",
      " 2   Oda      435 non-null    float64\n",
      " 3   Yaş      435 non-null    float64\n",
      " 4   Fiyat    435 non-null    int64  \n",
      " 5   Salon    435 non-null    float64\n",
      " 6   Manzara  435 non-null    int64  \n",
      " 7   Dubleks  435 non-null    int64  \n",
      "dtypes: float64(4), int64(4)\n",
      "memory usage: 30.6 KB\n"
     ]
    }
   ],
   "source": [
    "df.info()"
   ]
  },
  {
   "cell_type": "code",
   "execution_count": 53,
   "id": "faac6484",
   "metadata": {},
   "outputs": [],
   "source": [
    "del df['Desc']\n",
    "df = df[df['Tür']=='SatılıkDaire']"
   ]
  },
  {
   "cell_type": "code",
   "execution_count": 55,
   "id": "a70b68a0",
   "metadata": {},
   "outputs": [],
   "source": [
    "df.drop(columns=['Tür', 'Tarih'], inplace=True)"
   ]
  },
  {
   "cell_type": "code",
   "execution_count": null,
   "id": "97a1831e",
   "metadata": {},
   "outputs": [],
   "source": []
  },
  {
   "cell_type": "code",
   "execution_count": 57,
   "id": "b2ea1ae1",
   "metadata": {},
   "outputs": [],
   "source": [
    "import missingno as msno"
   ]
  },
  {
   "cell_type": "code",
   "execution_count": 58,
   "id": "729d5f74",
   "metadata": {},
   "outputs": [
    {
     "data": {
      "text/plain": [
       "<Axes: >"
      ]
     },
     "execution_count": 58,
     "metadata": {},
     "output_type": "execute_result"
    },
    {
     "data": {
      "image/png": "[encoded data removed]",
      "text/plain": [
       "<Figure size 2000x1200 with 2 Axes>"
      ]
     },
     "metadata": {},
     "output_type": "display_data"
    }
   ],
   "source": [
    "msno.heatmap(df)"
   ]
  },
  {
   "cell_type": "code",
   "execution_count": 60,
   "id": "504dc113",
   "metadata": {},
   "outputs": [
    {
     "data": {
      "text/plain": [
       "<Axes: >"
      ]
     },
     "execution_count": 60,
     "metadata": {},
     "output_type": "execute_result"
    },
    {
     "data": {
      "image/png": "[encoded data removed]",
      "text/plain": [
       "<Figure size 2500x1000 with 2 Axes>"
      ]
     },
     "metadata": {},
     "output_type": "display_data"
    }
   ],
   "source": [
    "msno.matrix(df)"
   ]
  },
  {
   "cell_type": "code",
   "execution_count": 61,
   "id": "9b25c399",
   "metadata": {},
   "outputs": [],
   "source": [
    "del df['Desc']"
   ]
  },
  {
   "cell_type": "code",
   "execution_count": 61,
   "id": "f0a698f5",
   "metadata": {},
   "outputs": [],
   "source": [
    "from ycimpute.imputer import EM\n",
    "n_df = np.array(df)\n",
    "dff = EM().complete(n_df)"
   ]
  },
  {
   "cell_type": "code",
   "execution_count": 62,
   "id": "73374dc8",
   "metadata": {},
   "outputs": [
    {
     "name": "stdout",
     "output_type": "stream",
     "text": [
      "<class 'pandas.core.frame.DataFrame'>\n",
      "RangeIndex: 435 entries, 0 to 434\n",
      "Data columns (total 8 columns):\n",
      " #   Column   Non-Null Count  Dtype  \n",
      "---  ------   --------------  -----  \n",
      " 0   M²       435 non-null    float64\n",
      " 1   Kat      435 non-null    float64\n",
      " 2   Oda      435 non-null    float64\n",
      " 3   Yaş      435 non-null    float64\n",
      " 4   Fiyat    435 non-null    float64\n",
      " 5   Salon    435 non-null    float64\n",
      " 6   Manzara  435 non-null    float64\n",
      " 7   Dubleks  435 non-null    float64\n",
      "dtypes: float64(8)\n",
      "memory usage: 27.3 KB\n"
     ]
    }
   ],
   "source": [
    "df = pd.DataFrame(dff,columns=df.columns)\n",
    "df.info()"
   ]
  },
  {
   "cell_type": "code",
   "execution_count": 63,
   "id": "7262ad20",
   "metadata": {},
   "outputs": [],
   "source": [
    "from sklearn.neighbors import LocalOutlierFactor\n",
    "lof = LocalOutlierFactor(n_neighbors=20)\n",
    "model = lof.fit_predict(df)"
   ]
  },
  {
   "cell_type": "code",
   "execution_count": 64,
   "id": "aff7a948",
   "metadata": {},
   "outputs": [
    {
     "data": {
      "text/plain": [
       "334"
      ]
     },
     "execution_count": 64,
     "metadata": {},
     "output_type": "execute_result"
    }
   ],
   "source": [
    "count = np.count_nonzero(model== 1)\n",
    "count"
   ]
  },
  {
   "cell_type": "code",
   "execution_count": 65,
   "id": "2c6299f8",
   "metadata": {},
   "outputs": [
    {
     "data": {
      "text/html": [
       "<div>\n",
       "<style scoped>\n",
       "    .dataframe tbody tr th:only-of-type {\n",
       "        vertical-align: middle;\n",
       "    }\n",
       "\n",
       "    .dataframe tbody tr th {\n",
       "        vertical-align: top;\n",
       "    }\n",
       "\n",
       "    .dataframe thead th {\n",
       "        text-align: right;\n",
       "    }\n",
       "</style>\n",
       "<table border=\"1\" class=\"dataframe\">\n",
       "  <thead>\n",
       "    <tr style=\"text-align: right;\">\n",
       "      <th></th>\n",
       "      <th>M²</th>\n",
       "      <th>Kat</th>\n",
       "      <th>Oda</th>\n",
       "      <th>Yaş</th>\n",
       "      <th>Fiyat</th>\n",
       "      <th>Salon</th>\n",
       "      <th>Manzara</th>\n",
       "      <th>Dubleks</th>\n",
       "    </tr>\n",
       "  </thead>\n",
       "  <tbody>\n",
       "    <tr>\n",
       "      <th>count</th>\n",
       "      <td>334.000000</td>\n",
       "      <td>334.000000</td>\n",
       "      <td>334.000000</td>\n",
       "      <td>334.000000</td>\n",
       "      <td>3.340000e+02</td>\n",
       "      <td>334.000000</td>\n",
       "      <td>334.000000</td>\n",
       "      <td>334.000000</td>\n",
       "    </tr>\n",
       "    <tr>\n",
       "      <th>mean</th>\n",
       "      <td>153.416168</td>\n",
       "      <td>4.646707</td>\n",
       "      <td>3.041916</td>\n",
       "      <td>9.356287</td>\n",
       "      <td>2.122347e+07</td>\n",
       "      <td>1.035928</td>\n",
       "      <td>0.239521</td>\n",
       "      <td>0.056886</td>\n",
       "    </tr>\n",
       "    <tr>\n",
       "      <th>std</th>\n",
       "      <td>51.390548</td>\n",
       "      <td>3.375549</td>\n",
       "      <td>0.796790</td>\n",
       "      <td>11.960722</td>\n",
       "      <td>1.044586e+07</td>\n",
       "      <td>0.186390</td>\n",
       "      <td>0.427431</td>\n",
       "      <td>0.231973</td>\n",
       "    </tr>\n",
       "    <tr>\n",
       "      <th>min</th>\n",
       "      <td>50.000000</td>\n",
       "      <td>0.000000</td>\n",
       "      <td>1.000000</td>\n",
       "      <td>0.000000</td>\n",
       "      <td>7.300000e+06</td>\n",
       "      <td>1.000000</td>\n",
       "      <td>0.000000</td>\n",
       "      <td>0.000000</td>\n",
       "    </tr>\n",
       "    <tr>\n",
       "      <th>25%</th>\n",
       "      <td>124.250000</td>\n",
       "      <td>2.000000</td>\n",
       "      <td>3.000000</td>\n",
       "      <td>2.000000</td>\n",
       "      <td>1.345000e+07</td>\n",
       "      <td>1.000000</td>\n",
       "      <td>0.000000</td>\n",
       "      <td>0.000000</td>\n",
       "    </tr>\n",
       "    <tr>\n",
       "      <th>50%</th>\n",
       "      <td>140.000000</td>\n",
       "      <td>4.000000</td>\n",
       "      <td>3.000000</td>\n",
       "      <td>4.000000</td>\n",
       "      <td>1.947500e+07</td>\n",
       "      <td>1.000000</td>\n",
       "      <td>0.000000</td>\n",
       "      <td>0.000000</td>\n",
       "    </tr>\n",
       "    <tr>\n",
       "      <th>75%</th>\n",
       "      <td>177.250000</td>\n",
       "      <td>7.000000</td>\n",
       "      <td>3.000000</td>\n",
       "      <td>10.000000</td>\n",
       "      <td>2.675000e+07</td>\n",
       "      <td>1.000000</td>\n",
       "      <td>0.000000</td>\n",
       "      <td>0.000000</td>\n",
       "    </tr>\n",
       "    <tr>\n",
       "      <th>max</th>\n",
       "      <td>385.000000</td>\n",
       "      <td>16.000000</td>\n",
       "      <td>6.000000</td>\n",
       "      <td>46.000000</td>\n",
       "      <td>5.900000e+07</td>\n",
       "      <td>2.000000</td>\n",
       "      <td>1.000000</td>\n",
       "      <td>1.000000</td>\n",
       "    </tr>\n",
       "  </tbody>\n",
       "</table>\n",
       "</div>"
      ],
      "text/plain": [
       "               M²         Kat         Oda         Yaş         Fiyat  \\\n",
       "count  334.000000  334.000000  334.000000  334.000000  3.340000e+02   \n",
       "mean   153.416168    4.646707    3.041916    9.356287  2.122347e+07   \n",
       "std     51.390548    3.375549    0.796790   11.960722  1.044586e+07   \n",
       "min     50.000000    0.000000    1.000000    0.000000  7.300000e+06   \n",
       "25%    124.250000    2.000000    3.000000    2.000000  1.345000e+07   \n",
       "50%    140.000000    4.000000    3.000000    4.000000  1.947500e+07   \n",
       "75%    177.250000    7.000000    3.000000   10.000000  2.675000e+07   \n",
       "max    385.000000   16.000000    6.000000   46.000000  5.900000e+07   \n",
       "\n",
       "            Salon     Manzara     Dubleks  \n",
       "count  334.000000  334.000000  334.000000  \n",
       "mean     1.035928    0.239521    0.056886  \n",
       "std      0.186390    0.427431    0.231973  \n",
       "min      1.000000    0.000000    0.000000  \n",
       "25%      1.000000    0.000000    0.000000  \n",
       "50%      1.000000    0.000000    0.000000  \n",
       "75%      1.000000    0.000000    0.000000  \n",
       "max      2.000000    1.000000    1.000000  "
      ]
     },
     "execution_count": 65,
     "metadata": {},
     "output_type": "execute_result"
    }
   ],
   "source": [
    "df = df[model!=-1]\n",
    "df.describe()"
   ]
  },
  {
   "cell_type": "code",
   "execution_count": 66,
   "id": "d9d448b4",
   "metadata": {},
   "outputs": [],
   "source": [
    "from sklearn.model_selection import train_test_split\n",
    "from sklearn.linear_model import LinearRegression, Ridge, Lasso, ElasticNet\n",
    "from sklearn.neighbors import KNeighborsRegressor\n",
    "from sklearn.tree import ExtraTreeRegressor, DecisionTreeRegressor\n",
    "from sklearn.ensemble import GradientBoostingRegressor\n",
    "from sklearn.metrics import mean_squared_error, mean_absolute_error, r2_score\n",
    "import pandas as pd\n",
    "\n",
    "def regression_(x, y):\n",
    "    \n",
    "    lr = LinearRegression()\n",
    "    r = Ridge()\n",
    "    l = Lasso()\n",
    "    e = ElasticNet()\n",
    "    kn = KNeighborsRegressor()\n",
    "    ext = ExtraTreeRegressor()\n",
    "    gb = GradientBoostingRegressor()\n",
    "    dt = DecisionTreeRegressor()\n",
    "    \n",
    "       \n",
    "    algos = [lr, r, l, e, kn, ext, gb, dt]\n",
    "    algos_names = ['LinearRegressor', 'Ridge', 'Lasso', 'ElasticNet', 'KNeighbors', 'ExtraTree', 'GradientBoosting', 'DecisionTree']\n",
    "    \n",
    "    x_train, x_test, y_train, y_test = train_test_split(x, y, test_size=.2, random_state=42)\n",
    "    \n",
    "    r_score = []\n",
    "    mse = []\n",
    "    mae = []\n",
    "    \n",
    "    result = pd.DataFrame(columns=['R_square', 'MSE', 'MAE'], index=algos_names)\n",
    "    \n",
    "    for algo in algos:\n",
    "        pred = algo.fit(x_train, y_train).predict(x_test)\n",
    "        r_score.append(r2_score(y_test, pred))\n",
    "        mse.append(mean_squared_error(y_test, pred) ** .5)\n",
    "        mae.append(mean_absolute_error(y_test, pred))\n",
    "    \n",
    "    result.R_square = r_score\n",
    "    result.MSE = mse\n",
    "    result.MAE = mae\n",
    "    \n",
    "    return result.sort_values('R_square', ascending=False)"
   ]
  },
  {
   "cell_type": "code",
   "execution_count": 67,
   "id": "429bb0ba",
   "metadata": {},
   "outputs": [
    {
     "data": {
      "text/html": [
       "<div>\n",
       "<style scoped>\n",
       "    .dataframe tbody tr th:only-of-type {\n",
       "        vertical-align: middle;\n",
       "    }\n",
       "\n",
       "    .dataframe tbody tr th {\n",
       "        vertical-align: top;\n",
       "    }\n",
       "\n",
       "    .dataframe thead th {\n",
       "        text-align: right;\n",
       "    }\n",
       "</style>\n",
       "<table border=\"1\" class=\"dataframe\">\n",
       "  <thead>\n",
       "    <tr style=\"text-align: right;\">\n",
       "      <th></th>\n",
       "      <th>R_square</th>\n",
       "      <th>MSE</th>\n",
       "      <th>MAE</th>\n",
       "    </tr>\n",
       "  </thead>\n",
       "  <tbody>\n",
       "    <tr>\n",
       "      <th>GradientBoosting</th>\n",
       "      <td>0.731210</td>\n",
       "      <td>4.807572e+06</td>\n",
       "      <td>2.828260e+06</td>\n",
       "    </tr>\n",
       "    <tr>\n",
       "      <th>LinearRegressor</th>\n",
       "      <td>0.678904</td>\n",
       "      <td>5.254560e+06</td>\n",
       "      <td>3.368501e+06</td>\n",
       "    </tr>\n",
       "    <tr>\n",
       "      <th>Lasso</th>\n",
       "      <td>0.678904</td>\n",
       "      <td>5.254561e+06</td>\n",
       "      <td>3.368501e+06</td>\n",
       "    </tr>\n",
       "    <tr>\n",
       "      <th>Ridge</th>\n",
       "      <td>0.678176</td>\n",
       "      <td>5.260514e+06</td>\n",
       "      <td>3.369172e+06</td>\n",
       "    </tr>\n",
       "    <tr>\n",
       "      <th>ElasticNet</th>\n",
       "      <td>0.646674</td>\n",
       "      <td>5.511972e+06</td>\n",
       "      <td>3.532530e+06</td>\n",
       "    </tr>\n",
       "    <tr>\n",
       "      <th>KNeighbors</th>\n",
       "      <td>0.538430</td>\n",
       "      <td>6.299956e+06</td>\n",
       "      <td>3.465955e+06</td>\n",
       "    </tr>\n",
       "    <tr>\n",
       "      <th>DecisionTree</th>\n",
       "      <td>0.391467</td>\n",
       "      <td>7.233706e+06</td>\n",
       "      <td>3.352960e+06</td>\n",
       "    </tr>\n",
       "    <tr>\n",
       "      <th>ExtraTree</th>\n",
       "      <td>0.367585</td>\n",
       "      <td>7.374284e+06</td>\n",
       "      <td>3.399776e+06</td>\n",
       "    </tr>\n",
       "  </tbody>\n",
       "</table>\n",
       "</div>"
      ],
      "text/plain": [
       "                  R_square           MSE           MAE\n",
       "GradientBoosting  0.731210  4.807572e+06  2.828260e+06\n",
       "LinearRegressor   0.678904  5.254560e+06  3.368501e+06\n",
       "Lasso             0.678904  5.254561e+06  3.368501e+06\n",
       "Ridge             0.678176  5.260514e+06  3.369172e+06\n",
       "ElasticNet        0.646674  5.511972e+06  3.532530e+06\n",
       "KNeighbors        0.538430  6.299956e+06  3.465955e+06\n",
       "DecisionTree      0.391467  7.233706e+06  3.352960e+06\n",
       "ExtraTree         0.367585  7.374284e+06  3.399776e+06"
      ]
     },
     "execution_count": 67,
     "metadata": {},
     "output_type": "execute_result"
    }
   ],
   "source": [
    "from sklearn.linear_model import LinearRegression\n",
    "x = df[['M²','Kat','Oda','Yaş','Salon','Manzara','Dubleks']]\n",
    "y = df['Fiyat']\n",
    "regression_(x, y)"
   ]
  },
  {
   "cell_type": "code",
   "execution_count": 68,
   "id": "098518ea",
   "metadata": {
    "collapsed": true
   },
   "outputs": [
    {
     "name": "stderr",
     "output_type": "stream",
     "text": [
      "/var/folders/bc/ldqjky0n44v8wx89hp6dtbjh0000gn/T/ipykernel_95331/3960207551.py:27: FutureWarning: The frame.append method is deprecated and will be removed from pandas in a future version. Use pandas.concat instead.\n",
      "  dataframe = dataframe.append(kal, ignore_index=True)\n",
      "/var/folders/bc/ldqjky0n44v8wx89hp6dtbjh0000gn/T/ipykernel_95331/3960207551.py:27: FutureWarning: The frame.append method is deprecated and will be removed from pandas in a future version. Use pandas.concat instead.\n",
      "  dataframe = dataframe.append(kal, ignore_index=True)\n",
      "/var/folders/bc/ldqjky0n44v8wx89hp6dtbjh0000gn/T/ipykernel_95331/3960207551.py:27: FutureWarning: The frame.append method is deprecated and will be removed from pandas in a future version. Use pandas.concat instead.\n",
      "  dataframe = dataframe.append(kal, ignore_index=True)\n",
      "/var/folders/bc/ldqjky0n44v8wx89hp6dtbjh0000gn/T/ipykernel_95331/3960207551.py:27: FutureWarning: The frame.append method is deprecated and will be removed from pandas in a future version. Use pandas.concat instead.\n",
      "  dataframe = dataframe.append(kal, ignore_index=True)\n",
      "/var/folders/bc/ldqjky0n44v8wx89hp6dtbjh0000gn/T/ipykernel_95331/3960207551.py:27: FutureWarning: The frame.append method is deprecated and will be removed from pandas in a future version. Use pandas.concat instead.\n",
      "  dataframe = dataframe.append(kal, ignore_index=True)\n",
      "/var/folders/bc/ldqjky0n44v8wx89hp6dtbjh0000gn/T/ipykernel_95331/3960207551.py:27: FutureWarning: The frame.append method is deprecated and will be removed from pandas in a future version. Use pandas.concat instead.\n",
      "  dataframe = dataframe.append(kal, ignore_index=True)\n",
      "/var/folders/bc/ldqjky0n44v8wx89hp6dtbjh0000gn/T/ipykernel_95331/3960207551.py:27: FutureWarning: The frame.append method is deprecated and will be removed from pandas in a future version. Use pandas.concat instead.\n",
      "  dataframe = dataframe.append(kal, ignore_index=True)\n",
      "/var/folders/bc/ldqjky0n44v8wx89hp6dtbjh0000gn/T/ipykernel_95331/3960207551.py:27: FutureWarning: The frame.append method is deprecated and will be removed from pandas in a future version. Use pandas.concat instead.\n",
      "  dataframe = dataframe.append(kal, ignore_index=True)\n",
      "/var/folders/bc/ldqjky0n44v8wx89hp6dtbjh0000gn/T/ipykernel_95331/3960207551.py:27: FutureWarning: The frame.append method is deprecated and will be removed from pandas in a future version. Use pandas.concat instead.\n",
      "  dataframe = dataframe.append(kal, ignore_index=True)\n",
      "/var/folders/bc/ldqjky0n44v8wx89hp6dtbjh0000gn/T/ipykernel_95331/3960207551.py:27: FutureWarning: The frame.append method is deprecated and will be removed from pandas in a future version. Use pandas.concat instead.\n",
      "  dataframe = dataframe.append(kal, ignore_index=True)\n",
      "/var/folders/bc/ldqjky0n44v8wx89hp6dtbjh0000gn/T/ipykernel_95331/3960207551.py:27: FutureWarning: The frame.append method is deprecated and will be removed from pandas in a future version. Use pandas.concat instead.\n",
      "  dataframe = dataframe.append(kal, ignore_index=True)\n",
      "/var/folders/bc/ldqjky0n44v8wx89hp6dtbjh0000gn/T/ipykernel_95331/3960207551.py:27: FutureWarning: The frame.append method is deprecated and will be removed from pandas in a future version. Use pandas.concat instead.\n",
      "  dataframe = dataframe.append(kal, ignore_index=True)\n",
      "/var/folders/bc/ldqjky0n44v8wx89hp6dtbjh0000gn/T/ipykernel_95331/3960207551.py:27: FutureWarning: The frame.append method is deprecated and will be removed from pandas in a future version. Use pandas.concat instead.\n",
      "  dataframe = dataframe.append(kal, ignore_index=True)\n",
      "/var/folders/bc/ldqjky0n44v8wx89hp6dtbjh0000gn/T/ipykernel_95331/3960207551.py:27: FutureWarning: The frame.append method is deprecated and will be removed from pandas in a future version. Use pandas.concat instead.\n",
      "  dataframe = dataframe.append(kal, ignore_index=True)\n",
      "/var/folders/bc/ldqjky0n44v8wx89hp6dtbjh0000gn/T/ipykernel_95331/3960207551.py:27: FutureWarning: The frame.append method is deprecated and will be removed from pandas in a future version. Use pandas.concat instead.\n",
      "  dataframe = dataframe.append(kal, ignore_index=True)\n",
      "/var/folders/bc/ldqjky0n44v8wx89hp6dtbjh0000gn/T/ipykernel_95331/3960207551.py:27: FutureWarning: The frame.append method is deprecated and will be removed from pandas in a future version. Use pandas.concat instead.\n",
      "  dataframe = dataframe.append(kal, ignore_index=True)\n",
      "/var/folders/bc/ldqjky0n44v8wx89hp6dtbjh0000gn/T/ipykernel_95331/3960207551.py:27: FutureWarning: The frame.append method is deprecated and will be removed from pandas in a future version. Use pandas.concat instead.\n",
      "  dataframe = dataframe.append(kal, ignore_index=True)\n",
      "/var/folders/bc/ldqjky0n44v8wx89hp6dtbjh0000gn/T/ipykernel_95331/3960207551.py:27: FutureWarning: The frame.append method is deprecated and will be removed from pandas in a future version. Use pandas.concat instead.\n",
      "  dataframe = dataframe.append(kal, ignore_index=True)\n",
      "/var/folders/bc/ldqjky0n44v8wx89hp6dtbjh0000gn/T/ipykernel_95331/3960207551.py:27: FutureWarning: The frame.append method is deprecated and will be removed from pandas in a future version. Use pandas.concat instead.\n",
      "  dataframe = dataframe.append(kal, ignore_index=True)\n",
      "/var/folders/bc/ldqjky0n44v8wx89hp6dtbjh0000gn/T/ipykernel_95331/3960207551.py:27: FutureWarning: The frame.append method is deprecated and will be removed from pandas in a future version. Use pandas.concat instead.\n",
      "  dataframe = dataframe.append(kal, ignore_index=True)\n",
      "/var/folders/bc/ldqjky0n44v8wx89hp6dtbjh0000gn/T/ipykernel_95331/3960207551.py:27: FutureWarning: The frame.append method is deprecated and will be removed from pandas in a future version. Use pandas.concat instead.\n",
      "  dataframe = dataframe.append(kal, ignore_index=True)\n",
      "/var/folders/bc/ldqjky0n44v8wx89hp6dtbjh0000gn/T/ipykernel_95331/3960207551.py:27: FutureWarning: The frame.append method is deprecated and will be removed from pandas in a future version. Use pandas.concat instead.\n",
      "  dataframe = dataframe.append(kal, ignore_index=True)\n",
      "/var/folders/bc/ldqjky0n44v8wx89hp6dtbjh0000gn/T/ipykernel_95331/3960207551.py:27: FutureWarning: The frame.append method is deprecated and will be removed from pandas in a future version. Use pandas.concat instead.\n",
      "  dataframe = dataframe.append(kal, ignore_index=True)\n",
      "/var/folders/bc/ldqjky0n44v8wx89hp6dtbjh0000gn/T/ipykernel_95331/3960207551.py:27: FutureWarning: The frame.append method is deprecated and will be removed from pandas in a future version. Use pandas.concat instead.\n",
      "  dataframe = dataframe.append(kal, ignore_index=True)\n",
      "/var/folders/bc/ldqjky0n44v8wx89hp6dtbjh0000gn/T/ipykernel_95331/3960207551.py:27: FutureWarning: The frame.append method is deprecated and will be removed from pandas in a future version. Use pandas.concat instead.\n",
      "  dataframe = dataframe.append(kal, ignore_index=True)\n",
      "/var/folders/bc/ldqjky0n44v8wx89hp6dtbjh0000gn/T/ipykernel_95331/3960207551.py:27: FutureWarning: The frame.append method is deprecated and will be removed from pandas in a future version. Use pandas.concat instead.\n",
      "  dataframe = dataframe.append(kal, ignore_index=True)\n",
      "/var/folders/bc/ldqjky0n44v8wx89hp6dtbjh0000gn/T/ipykernel_95331/3960207551.py:27: FutureWarning: The frame.append method is deprecated and will be removed from pandas in a future version. Use pandas.concat instead.\n",
      "  dataframe = dataframe.append(kal, ignore_index=True)\n",
      "/var/folders/bc/ldqjky0n44v8wx89hp6dtbjh0000gn/T/ipykernel_95331/3960207551.py:27: FutureWarning: The frame.append method is deprecated and will be removed from pandas in a future version. Use pandas.concat instead.\n",
      "  dataframe = dataframe.append(kal, ignore_index=True)\n",
      "/var/folders/bc/ldqjky0n44v8wx89hp6dtbjh0000gn/T/ipykernel_95331/3960207551.py:27: FutureWarning: The frame.append method is deprecated and will be removed from pandas in a future version. Use pandas.concat instead.\n",
      "  dataframe = dataframe.append(kal, ignore_index=True)\n",
      "/var/folders/bc/ldqjky0n44v8wx89hp6dtbjh0000gn/T/ipykernel_95331/3960207551.py:27: FutureWarning: The frame.append method is deprecated and will be removed from pandas in a future version. Use pandas.concat instead.\n",
      "  dataframe = dataframe.append(kal, ignore_index=True)\n",
      "/var/folders/bc/ldqjky0n44v8wx89hp6dtbjh0000gn/T/ipykernel_95331/3960207551.py:27: FutureWarning: The frame.append method is deprecated and will be removed from pandas in a future version. Use pandas.concat instead.\n",
      "  dataframe = dataframe.append(kal, ignore_index=True)\n",
      "/var/folders/bc/ldqjky0n44v8wx89hp6dtbjh0000gn/T/ipykernel_95331/3960207551.py:27: FutureWarning: The frame.append method is deprecated and will be removed from pandas in a future version. Use pandas.concat instead.\n",
      "  dataframe = dataframe.append(kal, ignore_index=True)\n"
     ]
    },
    {
     "name": "stderr",
     "output_type": "stream",
     "text": [
      "/var/folders/bc/ldqjky0n44v8wx89hp6dtbjh0000gn/T/ipykernel_95331/3960207551.py:27: FutureWarning: The frame.append method is deprecated and will be removed from pandas in a future version. Use pandas.concat instead.\n",
      "  dataframe = dataframe.append(kal, ignore_index=True)\n",
      "/var/folders/bc/ldqjky0n44v8wx89hp6dtbjh0000gn/T/ipykernel_95331/3960207551.py:27: FutureWarning: The frame.append method is deprecated and will be removed from pandas in a future version. Use pandas.concat instead.\n",
      "  dataframe = dataframe.append(kal, ignore_index=True)\n",
      "/var/folders/bc/ldqjky0n44v8wx89hp6dtbjh0000gn/T/ipykernel_95331/3960207551.py:27: FutureWarning: The frame.append method is deprecated and will be removed from pandas in a future version. Use pandas.concat instead.\n",
      "  dataframe = dataframe.append(kal, ignore_index=True)\n",
      "/var/folders/bc/ldqjky0n44v8wx89hp6dtbjh0000gn/T/ipykernel_95331/3960207551.py:27: FutureWarning: The frame.append method is deprecated and will be removed from pandas in a future version. Use pandas.concat instead.\n",
      "  dataframe = dataframe.append(kal, ignore_index=True)\n",
      "/var/folders/bc/ldqjky0n44v8wx89hp6dtbjh0000gn/T/ipykernel_95331/3960207551.py:27: FutureWarning: The frame.append method is deprecated and will be removed from pandas in a future version. Use pandas.concat instead.\n",
      "  dataframe = dataframe.append(kal, ignore_index=True)\n",
      "/var/folders/bc/ldqjky0n44v8wx89hp6dtbjh0000gn/T/ipykernel_95331/3960207551.py:27: FutureWarning: The frame.append method is deprecated and will be removed from pandas in a future version. Use pandas.concat instead.\n",
      "  dataframe = dataframe.append(kal, ignore_index=True)\n",
      "/var/folders/bc/ldqjky0n44v8wx89hp6dtbjh0000gn/T/ipykernel_95331/3960207551.py:27: FutureWarning: The frame.append method is deprecated and will be removed from pandas in a future version. Use pandas.concat instead.\n",
      "  dataframe = dataframe.append(kal, ignore_index=True)\n",
      "/var/folders/bc/ldqjky0n44v8wx89hp6dtbjh0000gn/T/ipykernel_95331/3960207551.py:27: FutureWarning: The frame.append method is deprecated and will be removed from pandas in a future version. Use pandas.concat instead.\n",
      "  dataframe = dataframe.append(kal, ignore_index=True)\n",
      "/var/folders/bc/ldqjky0n44v8wx89hp6dtbjh0000gn/T/ipykernel_95331/3960207551.py:27: FutureWarning: The frame.append method is deprecated and will be removed from pandas in a future version. Use pandas.concat instead.\n",
      "  dataframe = dataframe.append(kal, ignore_index=True)\n",
      "/var/folders/bc/ldqjky0n44v8wx89hp6dtbjh0000gn/T/ipykernel_95331/3960207551.py:27: FutureWarning: The frame.append method is deprecated and will be removed from pandas in a future version. Use pandas.concat instead.\n",
      "  dataframe = dataframe.append(kal, ignore_index=True)\n",
      "/var/folders/bc/ldqjky0n44v8wx89hp6dtbjh0000gn/T/ipykernel_95331/3960207551.py:27: FutureWarning: The frame.append method is deprecated and will be removed from pandas in a future version. Use pandas.concat instead.\n",
      "  dataframe = dataframe.append(kal, ignore_index=True)\n",
      "/var/folders/bc/ldqjky0n44v8wx89hp6dtbjh0000gn/T/ipykernel_95331/3960207551.py:27: FutureWarning: The frame.append method is deprecated and will be removed from pandas in a future version. Use pandas.concat instead.\n",
      "  dataframe = dataframe.append(kal, ignore_index=True)\n",
      "/var/folders/bc/ldqjky0n44v8wx89hp6dtbjh0000gn/T/ipykernel_95331/3960207551.py:27: FutureWarning: The frame.append method is deprecated and will be removed from pandas in a future version. Use pandas.concat instead.\n",
      "  dataframe = dataframe.append(kal, ignore_index=True)\n",
      "/var/folders/bc/ldqjky0n44v8wx89hp6dtbjh0000gn/T/ipykernel_95331/3960207551.py:27: FutureWarning: The frame.append method is deprecated and will be removed from pandas in a future version. Use pandas.concat instead.\n",
      "  dataframe = dataframe.append(kal, ignore_index=True)\n",
      "/var/folders/bc/ldqjky0n44v8wx89hp6dtbjh0000gn/T/ipykernel_95331/3960207551.py:27: FutureWarning: The frame.append method is deprecated and will be removed from pandas in a future version. Use pandas.concat instead.\n",
      "  dataframe = dataframe.append(kal, ignore_index=True)\n",
      "/var/folders/bc/ldqjky0n44v8wx89hp6dtbjh0000gn/T/ipykernel_95331/3960207551.py:27: FutureWarning: The frame.append method is deprecated and will be removed from pandas in a future version. Use pandas.concat instead.\n",
      "  dataframe = dataframe.append(kal, ignore_index=True)\n",
      "/var/folders/bc/ldqjky0n44v8wx89hp6dtbjh0000gn/T/ipykernel_95331/3960207551.py:27: FutureWarning: The frame.append method is deprecated and will be removed from pandas in a future version. Use pandas.concat instead.\n",
      "  dataframe = dataframe.append(kal, ignore_index=True)\n"
     ]
    }
   ],
   "source": [
    "gb = GradientBoostingRegressor()\n",
    "dataframe = pd. DataFrame()\n",
    "for i in range(1,50):\n",
    "    x_train, x_test, y_train, y_test = train_test_split(x, y, test_size=.2, random_state=i)\n",
    "    model = gb.fit(x_train, y_train)\n",
    "    y_pretest = model.predict(x_test)\n",
    "    r2score = r2_score(y_test, y_pretest)\n",
    "    mse = mean_squared_error(y_test, y_pretest) ** .5\n",
    "    mae = mean_absolute_error(y_test,y_pretest)\n",
    "    \n",
    "    data = {\n",
    "    'M²': [119, 127, 127, 127, 127, 127, 127, 193],\n",
    "    'Kat': [0, 1, 2, 3, 4, 5, 6, 7],\n",
    "    'Oda': [2, 3, 3, 3, 3, 3, 3, 3],\n",
    "    'Yaş': [0, 0, 0, 0, 0, 0, 0, 0],\n",
    "    'Salon': [1, 1, 1, 1, 1, 1, 1, 2],\n",
    "    'Manzara': [0, 0, 0, 0, 1, 1, 1, 1],\n",
    "    'Dubleks': [0, 0, 0, 0, 0, 0, 0, 1]  # Dubleks sütununa uygun veriyi ekledik\n",
    "    }\n",
    "\n",
    "    kal = pd.DataFrame(data, columns=['M²', 'Kat', 'Oda', 'Yaş', 'Salon', 'Manzara','Dubleks'])\n",
    "    y_pretest_kal = model.predict(kal)\n",
    "    kal['Fiyat'] = y_pretest_kal\n",
    "    kal['mse'] = mse\n",
    "    kal['mae'] = mae\n",
    "    kal['r2'] = r2score\n",
    "    dataframe = dataframe.append(kal, ignore_index=True)"
   ]
  },
  {
   "cell_type": "code",
   "execution_count": 69,
   "id": "21d383a3",
   "metadata": {
    "scrolled": true
   },
   "outputs": [
    {
     "name": "stderr",
     "output_type": "stream",
     "text": [
      "/var/folders/bc/ldqjky0n44v8wx89hp6dtbjh0000gn/T/ipykernel_95331/1237507733.py:6: FutureWarning: The frame.append method is deprecated and will be removed from pandas in a future version. Use pandas.concat instead.\n",
      "  dataframe1 = dataframe1.append(new_row,ignore_index=True)\n",
      "/var/folders/bc/ldqjky0n44v8wx89hp6dtbjh0000gn/T/ipykernel_95331/1237507733.py:6: FutureWarning: The frame.append method is deprecated and will be removed from pandas in a future version. Use pandas.concat instead.\n",
      "  dataframe1 = dataframe1.append(new_row,ignore_index=True)\n",
      "/var/folders/bc/ldqjky0n44v8wx89hp6dtbjh0000gn/T/ipykernel_95331/1237507733.py:6: FutureWarning: The frame.append method is deprecated and will be removed from pandas in a future version. Use pandas.concat instead.\n",
      "  dataframe1 = dataframe1.append(new_row,ignore_index=True)\n",
      "/var/folders/bc/ldqjky0n44v8wx89hp6dtbjh0000gn/T/ipykernel_95331/1237507733.py:6: FutureWarning: The frame.append method is deprecated and will be removed from pandas in a future version. Use pandas.concat instead.\n",
      "  dataframe1 = dataframe1.append(new_row,ignore_index=True)\n",
      "/var/folders/bc/ldqjky0n44v8wx89hp6dtbjh0000gn/T/ipykernel_95331/1237507733.py:6: FutureWarning: The frame.append method is deprecated and will be removed from pandas in a future version. Use pandas.concat instead.\n",
      "  dataframe1 = dataframe1.append(new_row,ignore_index=True)\n",
      "/var/folders/bc/ldqjky0n44v8wx89hp6dtbjh0000gn/T/ipykernel_95331/1237507733.py:6: FutureWarning: The frame.append method is deprecated and will be removed from pandas in a future version. Use pandas.concat instead.\n",
      "  dataframe1 = dataframe1.append(new_row,ignore_index=True)\n",
      "/var/folders/bc/ldqjky0n44v8wx89hp6dtbjh0000gn/T/ipykernel_95331/1237507733.py:6: FutureWarning: The frame.append method is deprecated and will be removed from pandas in a future version. Use pandas.concat instead.\n",
      "  dataframe1 = dataframe1.append(new_row,ignore_index=True)\n",
      "/var/folders/bc/ldqjky0n44v8wx89hp6dtbjh0000gn/T/ipykernel_95331/1237507733.py:6: FutureWarning: The frame.append method is deprecated and will be removed from pandas in a future version. Use pandas.concat instead.\n",
      "  dataframe1 = dataframe1.append(new_row,ignore_index=True)\n"
     ]
    },
    {
     "data": {
      "text/html": [
       "<div>\n",
       "<style scoped>\n",
       "    .dataframe tbody tr th:only-of-type {\n",
       "        vertical-align: middle;\n",
       "    }\n",
       "\n",
       "    .dataframe tbody tr th {\n",
       "        vertical-align: top;\n",
       "    }\n",
       "\n",
       "    .dataframe thead th {\n",
       "        text-align: right;\n",
       "    }\n",
       "</style>\n",
       "<table border=\"1\" class=\"dataframe\">\n",
       "  <thead>\n",
       "    <tr style=\"text-align: right;\">\n",
       "      <th></th>\n",
       "      <th>M²</th>\n",
       "      <th>Kat</th>\n",
       "      <th>Oda</th>\n",
       "      <th>Yaş</th>\n",
       "      <th>Salon</th>\n",
       "      <th>Manzara</th>\n",
       "      <th>Dubleks</th>\n",
       "      <th>Fiyat</th>\n",
       "      <th>mse</th>\n",
       "      <th>mae</th>\n",
       "      <th>r2</th>\n",
       "    </tr>\n",
       "  </thead>\n",
       "  <tbody>\n",
       "    <tr>\n",
       "      <th>0</th>\n",
       "      <td>119.0</td>\n",
       "      <td>0.0</td>\n",
       "      <td>2.0</td>\n",
       "      <td>0.0</td>\n",
       "      <td>1.0</td>\n",
       "      <td>0.0</td>\n",
       "      <td>0.0</td>\n",
       "      <td>1.633073e+07</td>\n",
       "      <td>5.674803e+06</td>\n",
       "      <td>3.558175e+06</td>\n",
       "      <td>0.679943</td>\n",
       "    </tr>\n",
       "    <tr>\n",
       "      <th>1</th>\n",
       "      <td>127.0</td>\n",
       "      <td>1.0</td>\n",
       "      <td>3.0</td>\n",
       "      <td>0.0</td>\n",
       "      <td>1.0</td>\n",
       "      <td>0.0</td>\n",
       "      <td>0.0</td>\n",
       "      <td>2.060880e+07</td>\n",
       "      <td>5.674803e+06</td>\n",
       "      <td>3.558175e+06</td>\n",
       "      <td>0.679943</td>\n",
       "    </tr>\n",
       "    <tr>\n",
       "      <th>2</th>\n",
       "      <td>127.0</td>\n",
       "      <td>2.0</td>\n",
       "      <td>3.0</td>\n",
       "      <td>0.0</td>\n",
       "      <td>1.0</td>\n",
       "      <td>0.0</td>\n",
       "      <td>0.0</td>\n",
       "      <td>1.960651e+07</td>\n",
       "      <td>5.674803e+06</td>\n",
       "      <td>3.558175e+06</td>\n",
       "      <td>0.679943</td>\n",
       "    </tr>\n",
       "    <tr>\n",
       "      <th>3</th>\n",
       "      <td>127.0</td>\n",
       "      <td>3.0</td>\n",
       "      <td>3.0</td>\n",
       "      <td>0.0</td>\n",
       "      <td>1.0</td>\n",
       "      <td>0.0</td>\n",
       "      <td>0.0</td>\n",
       "      <td>1.955705e+07</td>\n",
       "      <td>5.674803e+06</td>\n",
       "      <td>3.558175e+06</td>\n",
       "      <td>0.679943</td>\n",
       "    </tr>\n",
       "    <tr>\n",
       "      <th>4</th>\n",
       "      <td>127.0</td>\n",
       "      <td>4.0</td>\n",
       "      <td>3.0</td>\n",
       "      <td>0.0</td>\n",
       "      <td>1.0</td>\n",
       "      <td>1.0</td>\n",
       "      <td>0.0</td>\n",
       "      <td>2.027769e+07</td>\n",
       "      <td>5.674803e+06</td>\n",
       "      <td>3.558175e+06</td>\n",
       "      <td>0.679943</td>\n",
       "    </tr>\n",
       "    <tr>\n",
       "      <th>5</th>\n",
       "      <td>127.0</td>\n",
       "      <td>5.0</td>\n",
       "      <td>3.0</td>\n",
       "      <td>0.0</td>\n",
       "      <td>1.0</td>\n",
       "      <td>1.0</td>\n",
       "      <td>0.0</td>\n",
       "      <td>2.011511e+07</td>\n",
       "      <td>5.674803e+06</td>\n",
       "      <td>3.558175e+06</td>\n",
       "      <td>0.679943</td>\n",
       "    </tr>\n",
       "    <tr>\n",
       "      <th>6</th>\n",
       "      <td>127.0</td>\n",
       "      <td>6.0</td>\n",
       "      <td>3.0</td>\n",
       "      <td>0.0</td>\n",
       "      <td>1.0</td>\n",
       "      <td>1.0</td>\n",
       "      <td>0.0</td>\n",
       "      <td>2.008896e+07</td>\n",
       "      <td>5.674803e+06</td>\n",
       "      <td>3.558175e+06</td>\n",
       "      <td>0.679943</td>\n",
       "    </tr>\n",
       "    <tr>\n",
       "      <th>7</th>\n",
       "      <td>193.0</td>\n",
       "      <td>7.0</td>\n",
       "      <td>3.0</td>\n",
       "      <td>0.0</td>\n",
       "      <td>2.0</td>\n",
       "      <td>1.0</td>\n",
       "      <td>1.0</td>\n",
       "      <td>4.211340e+07</td>\n",
       "      <td>5.674803e+06</td>\n",
       "      <td>3.558175e+06</td>\n",
       "      <td>0.679943</td>\n",
       "    </tr>\n",
       "  </tbody>\n",
       "</table>\n",
       "</div>"
      ],
      "text/plain": [
       "      M²  Kat  Oda  Yaş  Salon  Manzara  Dubleks         Fiyat           mse  \\\n",
       "0  119.0  0.0  2.0  0.0    1.0      0.0      0.0  1.633073e+07  5.674803e+06   \n",
       "1  127.0  1.0  3.0  0.0    1.0      0.0      0.0  2.060880e+07  5.674803e+06   \n",
       "2  127.0  2.0  3.0  0.0    1.0      0.0      0.0  1.960651e+07  5.674803e+06   \n",
       "3  127.0  3.0  3.0  0.0    1.0      0.0      0.0  1.955705e+07  5.674803e+06   \n",
       "4  127.0  4.0  3.0  0.0    1.0      1.0      0.0  2.027769e+07  5.674803e+06   \n",
       "5  127.0  5.0  3.0  0.0    1.0      1.0      0.0  2.011511e+07  5.674803e+06   \n",
       "6  127.0  6.0  3.0  0.0    1.0      1.0      0.0  2.008896e+07  5.674803e+06   \n",
       "7  193.0  7.0  3.0  0.0    2.0      1.0      1.0  4.211340e+07  5.674803e+06   \n",
       "\n",
       "            mae        r2  \n",
       "0  3.558175e+06  0.679943  \n",
       "1  3.558175e+06  0.679943  \n",
       "2  3.558175e+06  0.679943  \n",
       "3  3.558175e+06  0.679943  \n",
       "4  3.558175e+06  0.679943  \n",
       "5  3.558175e+06  0.679943  \n",
       "6  3.558175e+06  0.679943  \n",
       "7  3.558175e+06  0.679943  "
      ]
     },
     "execution_count": 69,
     "metadata": {},
     "output_type": "execute_result"
    }
   ],
   "source": [
    "dataframe1 = pd. DataFrame()\n",
    "for i in range(0,8):\n",
    "    row = dataframe[dataframe['Kat'] == i]\n",
    "    new_row = row.mean()\n",
    "    #display(new_row)\n",
    "    dataframe1 = dataframe1.append(new_row,ignore_index=True)\n",
    "dataframe1"
   ]
  },
  {
   "cell_type": "code",
   "execution_count": 70,
   "id": "04df0de2",
   "metadata": {},
   "outputs": [],
   "source": [
    "#dataframe1.to_excel(\"KalamışTahmin23.05.2024.xlsx\")"
   ]
  },
  {
   "cell_type": "code",
   "execution_count": null,
   "id": "ab48b499",
   "metadata": {},
   "outputs": [],
   "source": []
  }
 ],
 "metadata": {
  "kernelspec": {
   "display_name": "Python 3 (ipykernel)",
   "language": "python",
   "name": "python3"
  },
  "language_info": {
   "codemirror_mode": {
    "name": "ipython",
    "version": 3
   },
   "file_extension": ".py",
   "mimetype": "text/x-python",
   "name": "python",
   "nbconvert_exporter": "python",
   "pygments_lexer": "ipython3",
   "version": "3.10.9"
  }
 },
 "nbformat": 4,
 "nbformat_minor": 5
}
